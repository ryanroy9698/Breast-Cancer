{
 "cells": [
  {
   "cell_type": "markdown",
   "metadata": {},
   "source": [
    "# Breast Cancer Dataset Classification\n",
    "\n",
    "## University of Toronto | Project by Riyan Roy\n",
    "\n",
    "**Data Processing and Illumination**\n",
    "\n",
    "Embark on a journey where data preprocessing becomes an art, paving the way for the illumination of insights. Preprocessing data (includes standardization) helps in creating more effective and accurate model predictions.\n",
    "\n",
    "**Visual Exploration and Analysis**\n",
    "\n",
    "Experience the blend of exploratory data visualization and analysis, unraveling intricate patterns within the dataset. I created insights and visualize relations between features to understand the data in depth.\n",
    "\n",
    "**Algorithmic Insights: K Neighbours and Decision Tree**\n",
    "\n",
    "Enter the realm of machine learning, where K Neighbours and Decision Trees decode data patterns, contributing to a efficient predictive analytics.\n",
    "\n",
    "**Feature Selection: The Art of Choice**\n",
    "\n",
    "Delve into strategic feature selection, where I removed least important features and created models using most important features using different data driven methodolgies. \n",
    "**Testing Grounds: Rigorous Evaluation**\n",
    "The best model is used to predict the outcomes(Class 0 for negative /Class 1 for positive) at the end of the notebook.\n",
    "\n",
    "**Authored by Riyan Roy**"
   ]
  },
  {
   "cell_type": "code",
   "execution_count": 1,
   "metadata": {
    "id": "YFo8KVcryZFe"
   },
   "outputs": [],
   "source": [
    "from sklearn.datasets import load_breast_cancer\n",
    "import numpy as np\n",
    "import pandas as pd\n",
    "dataset = load_breast_cancer()"
   ]
  },
  {
   "cell_type": "markdown",
   "metadata": {
    "id": "gOGmwyQNyZFh"
   },
   "source": [
    "## Part 1: Getting started [2 Marks]\n",
    "First off, take a look at the `data`, `target` and `feature_names` entries in the `dataset` dictionary. They contain the information we'll be working with here. Then, create a Pandas DataFrame called `df` containing the data and the targets, with the feature names as column headings. If you need help, see [here](https://pandas.pydata.org/pandas-docs/stable/reference/api/pandas.DataFrame.html) for more details on how to achieve this. **[0.4]**\n",
    "* How many features do we have in this dataset? **30**\n",
    "* How many observations have a 'mean area' of greater than 700? **171**\n",
    "* How many participants tested `Malignant`? **212**\n",
    "* How many participants tested `Benign`? **357**"
   ]
  },
  {
   "cell_type": "code",
   "execution_count": 2,
   "metadata": {
    "id": "EwNMiPbcQ_6G"
   },
   "outputs": [],
   "source": [
    "# Part 1: Q1 Loading target dataset into a pandas dataframe with the name of the dataframe as **target_data**\n",
    "target_data = pd.DataFrame(data=dataset.target)"
   ]
  },
  {
   "cell_type": "code",
   "execution_count": 3,
   "metadata": {
    "id": "PtAnPfvmQru2"
   },
   "outputs": [],
   "source": [
    "# Part 1: Q1 continued - loading values/rows containing \"data\" and combining it with target_data.  \n",
    "data_feed = pd.DataFrame(data=dataset.data,columns=dataset.feature_names).join(target_data)"
   ]
  },
  {
   "cell_type": "code",
   "execution_count": 4,
   "metadata": {
    "id": "5w_JlMHJSHdc"
   },
   "outputs": [],
   "source": [
    "# Part 1: Q1 continued - renaming the fetaure which contains the target data and assigning it to the data frame with the name **df**\n",
    "df = data_feed.rename(columns={0:\"target\"})"
   ]
  },
  {
   "cell_type": "code",
   "execution_count": 5,
   "metadata": {
    "colab": {
     "base_uri": "https://localhost:8080/",
     "height": 502
    },
    "id": "veHfdjDnSqTi",
    "outputId": "1952821b-c8ee-4170-85d7-4cf25124629d"
   },
   "outputs": [
    {
     "data": {
      "text/html": [
       "\n",
       "  <div id=\"df-feb6d890-f70f-4f99-85de-11a81103c8a5\">\n",
       "    <div class=\"colab-df-container\">\n",
       "      <div>\n",
       "<style scoped>\n",
       "    .dataframe tbody tr th:only-of-type {\n",
       "        vertical-align: middle;\n",
       "    }\n",
       "\n",
       "    .dataframe tbody tr th {\n",
       "        vertical-align: top;\n",
       "    }\n",
       "\n",
       "    .dataframe thead th {\n",
       "        text-align: right;\n",
       "    }\n",
       "</style>\n",
       "<table border=\"1\" class=\"dataframe\">\n",
       "  <thead>\n",
       "    <tr style=\"text-align: right;\">\n",
       "      <th></th>\n",
       "      <th>mean radius</th>\n",
       "      <th>mean texture</th>\n",
       "      <th>mean perimeter</th>\n",
       "      <th>mean area</th>\n",
       "      <th>mean smoothness</th>\n",
       "      <th>mean compactness</th>\n",
       "      <th>mean concavity</th>\n",
       "      <th>mean concave points</th>\n",
       "      <th>mean symmetry</th>\n",
       "      <th>mean fractal dimension</th>\n",
       "      <th>...</th>\n",
       "      <th>worst texture</th>\n",
       "      <th>worst perimeter</th>\n",
       "      <th>worst area</th>\n",
       "      <th>worst smoothness</th>\n",
       "      <th>worst compactness</th>\n",
       "      <th>worst concavity</th>\n",
       "      <th>worst concave points</th>\n",
       "      <th>worst symmetry</th>\n",
       "      <th>worst fractal dimension</th>\n",
       "      <th>target</th>\n",
       "    </tr>\n",
       "  </thead>\n",
       "  <tbody>\n",
       "    <tr>\n",
       "      <th>0</th>\n",
       "      <td>17.99</td>\n",
       "      <td>10.38</td>\n",
       "      <td>122.80</td>\n",
       "      <td>1001.0</td>\n",
       "      <td>0.11840</td>\n",
       "      <td>0.27760</td>\n",
       "      <td>0.30010</td>\n",
       "      <td>0.14710</td>\n",
       "      <td>0.2419</td>\n",
       "      <td>0.07871</td>\n",
       "      <td>...</td>\n",
       "      <td>17.33</td>\n",
       "      <td>184.60</td>\n",
       "      <td>2019.0</td>\n",
       "      <td>0.16220</td>\n",
       "      <td>0.66560</td>\n",
       "      <td>0.7119</td>\n",
       "      <td>0.2654</td>\n",
       "      <td>0.4601</td>\n",
       "      <td>0.11890</td>\n",
       "      <td>0</td>\n",
       "    </tr>\n",
       "    <tr>\n",
       "      <th>1</th>\n",
       "      <td>20.57</td>\n",
       "      <td>17.77</td>\n",
       "      <td>132.90</td>\n",
       "      <td>1326.0</td>\n",
       "      <td>0.08474</td>\n",
       "      <td>0.07864</td>\n",
       "      <td>0.08690</td>\n",
       "      <td>0.07017</td>\n",
       "      <td>0.1812</td>\n",
       "      <td>0.05667</td>\n",
       "      <td>...</td>\n",
       "      <td>23.41</td>\n",
       "      <td>158.80</td>\n",
       "      <td>1956.0</td>\n",
       "      <td>0.12380</td>\n",
       "      <td>0.18660</td>\n",
       "      <td>0.2416</td>\n",
       "      <td>0.1860</td>\n",
       "      <td>0.2750</td>\n",
       "      <td>0.08902</td>\n",
       "      <td>0</td>\n",
       "    </tr>\n",
       "    <tr>\n",
       "      <th>2</th>\n",
       "      <td>19.69</td>\n",
       "      <td>21.25</td>\n",
       "      <td>130.00</td>\n",
       "      <td>1203.0</td>\n",
       "      <td>0.10960</td>\n",
       "      <td>0.15990</td>\n",
       "      <td>0.19740</td>\n",
       "      <td>0.12790</td>\n",
       "      <td>0.2069</td>\n",
       "      <td>0.05999</td>\n",
       "      <td>...</td>\n",
       "      <td>25.53</td>\n",
       "      <td>152.50</td>\n",
       "      <td>1709.0</td>\n",
       "      <td>0.14440</td>\n",
       "      <td>0.42450</td>\n",
       "      <td>0.4504</td>\n",
       "      <td>0.2430</td>\n",
       "      <td>0.3613</td>\n",
       "      <td>0.08758</td>\n",
       "      <td>0</td>\n",
       "    </tr>\n",
       "    <tr>\n",
       "      <th>3</th>\n",
       "      <td>11.42</td>\n",
       "      <td>20.38</td>\n",
       "      <td>77.58</td>\n",
       "      <td>386.1</td>\n",
       "      <td>0.14250</td>\n",
       "      <td>0.28390</td>\n",
       "      <td>0.24140</td>\n",
       "      <td>0.10520</td>\n",
       "      <td>0.2597</td>\n",
       "      <td>0.09744</td>\n",
       "      <td>...</td>\n",
       "      <td>26.50</td>\n",
       "      <td>98.87</td>\n",
       "      <td>567.7</td>\n",
       "      <td>0.20980</td>\n",
       "      <td>0.86630</td>\n",
       "      <td>0.6869</td>\n",
       "      <td>0.2575</td>\n",
       "      <td>0.6638</td>\n",
       "      <td>0.17300</td>\n",
       "      <td>0</td>\n",
       "    </tr>\n",
       "    <tr>\n",
       "      <th>4</th>\n",
       "      <td>20.29</td>\n",
       "      <td>14.34</td>\n",
       "      <td>135.10</td>\n",
       "      <td>1297.0</td>\n",
       "      <td>0.10030</td>\n",
       "      <td>0.13280</td>\n",
       "      <td>0.19800</td>\n",
       "      <td>0.10430</td>\n",
       "      <td>0.1809</td>\n",
       "      <td>0.05883</td>\n",
       "      <td>...</td>\n",
       "      <td>16.67</td>\n",
       "      <td>152.20</td>\n",
       "      <td>1575.0</td>\n",
       "      <td>0.13740</td>\n",
       "      <td>0.20500</td>\n",
       "      <td>0.4000</td>\n",
       "      <td>0.1625</td>\n",
       "      <td>0.2364</td>\n",
       "      <td>0.07678</td>\n",
       "      <td>0</td>\n",
       "    </tr>\n",
       "    <tr>\n",
       "      <th>...</th>\n",
       "      <td>...</td>\n",
       "      <td>...</td>\n",
       "      <td>...</td>\n",
       "      <td>...</td>\n",
       "      <td>...</td>\n",
       "      <td>...</td>\n",
       "      <td>...</td>\n",
       "      <td>...</td>\n",
       "      <td>...</td>\n",
       "      <td>...</td>\n",
       "      <td>...</td>\n",
       "      <td>...</td>\n",
       "      <td>...</td>\n",
       "      <td>...</td>\n",
       "      <td>...</td>\n",
       "      <td>...</td>\n",
       "      <td>...</td>\n",
       "      <td>...</td>\n",
       "      <td>...</td>\n",
       "      <td>...</td>\n",
       "      <td>...</td>\n",
       "    </tr>\n",
       "    <tr>\n",
       "      <th>564</th>\n",
       "      <td>21.56</td>\n",
       "      <td>22.39</td>\n",
       "      <td>142.00</td>\n",
       "      <td>1479.0</td>\n",
       "      <td>0.11100</td>\n",
       "      <td>0.11590</td>\n",
       "      <td>0.24390</td>\n",
       "      <td>0.13890</td>\n",
       "      <td>0.1726</td>\n",
       "      <td>0.05623</td>\n",
       "      <td>...</td>\n",
       "      <td>26.40</td>\n",
       "      <td>166.10</td>\n",
       "      <td>2027.0</td>\n",
       "      <td>0.14100</td>\n",
       "      <td>0.21130</td>\n",
       "      <td>0.4107</td>\n",
       "      <td>0.2216</td>\n",
       "      <td>0.2060</td>\n",
       "      <td>0.07115</td>\n",
       "      <td>0</td>\n",
       "    </tr>\n",
       "    <tr>\n",
       "      <th>565</th>\n",
       "      <td>20.13</td>\n",
       "      <td>28.25</td>\n",
       "      <td>131.20</td>\n",
       "      <td>1261.0</td>\n",
       "      <td>0.09780</td>\n",
       "      <td>0.10340</td>\n",
       "      <td>0.14400</td>\n",
       "      <td>0.09791</td>\n",
       "      <td>0.1752</td>\n",
       "      <td>0.05533</td>\n",
       "      <td>...</td>\n",
       "      <td>38.25</td>\n",
       "      <td>155.00</td>\n",
       "      <td>1731.0</td>\n",
       "      <td>0.11660</td>\n",
       "      <td>0.19220</td>\n",
       "      <td>0.3215</td>\n",
       "      <td>0.1628</td>\n",
       "      <td>0.2572</td>\n",
       "      <td>0.06637</td>\n",
       "      <td>0</td>\n",
       "    </tr>\n",
       "    <tr>\n",
       "      <th>566</th>\n",
       "      <td>16.60</td>\n",
       "      <td>28.08</td>\n",
       "      <td>108.30</td>\n",
       "      <td>858.1</td>\n",
       "      <td>0.08455</td>\n",
       "      <td>0.10230</td>\n",
       "      <td>0.09251</td>\n",
       "      <td>0.05302</td>\n",
       "      <td>0.1590</td>\n",
       "      <td>0.05648</td>\n",
       "      <td>...</td>\n",
       "      <td>34.12</td>\n",
       "      <td>126.70</td>\n",
       "      <td>1124.0</td>\n",
       "      <td>0.11390</td>\n",
       "      <td>0.30940</td>\n",
       "      <td>0.3403</td>\n",
       "      <td>0.1418</td>\n",
       "      <td>0.2218</td>\n",
       "      <td>0.07820</td>\n",
       "      <td>0</td>\n",
       "    </tr>\n",
       "    <tr>\n",
       "      <th>567</th>\n",
       "      <td>20.60</td>\n",
       "      <td>29.33</td>\n",
       "      <td>140.10</td>\n",
       "      <td>1265.0</td>\n",
       "      <td>0.11780</td>\n",
       "      <td>0.27700</td>\n",
       "      <td>0.35140</td>\n",
       "      <td>0.15200</td>\n",
       "      <td>0.2397</td>\n",
       "      <td>0.07016</td>\n",
       "      <td>...</td>\n",
       "      <td>39.42</td>\n",
       "      <td>184.60</td>\n",
       "      <td>1821.0</td>\n",
       "      <td>0.16500</td>\n",
       "      <td>0.86810</td>\n",
       "      <td>0.9387</td>\n",
       "      <td>0.2650</td>\n",
       "      <td>0.4087</td>\n",
       "      <td>0.12400</td>\n",
       "      <td>0</td>\n",
       "    </tr>\n",
       "    <tr>\n",
       "      <th>568</th>\n",
       "      <td>7.76</td>\n",
       "      <td>24.54</td>\n",
       "      <td>47.92</td>\n",
       "      <td>181.0</td>\n",
       "      <td>0.05263</td>\n",
       "      <td>0.04362</td>\n",
       "      <td>0.00000</td>\n",
       "      <td>0.00000</td>\n",
       "      <td>0.1587</td>\n",
       "      <td>0.05884</td>\n",
       "      <td>...</td>\n",
       "      <td>30.37</td>\n",
       "      <td>59.16</td>\n",
       "      <td>268.6</td>\n",
       "      <td>0.08996</td>\n",
       "      <td>0.06444</td>\n",
       "      <td>0.0000</td>\n",
       "      <td>0.0000</td>\n",
       "      <td>0.2871</td>\n",
       "      <td>0.07039</td>\n",
       "      <td>1</td>\n",
       "    </tr>\n",
       "  </tbody>\n",
       "</table>\n",
       "<p>569 rows × 31 columns</p>\n",
       "</div>\n",
       "      <button class=\"colab-df-convert\" onclick=\"convertToInteractive('df-feb6d890-f70f-4f99-85de-11a81103c8a5')\"\n",
       "              title=\"Convert this dataframe to an interactive table.\"\n",
       "              style=\"display:none;\">\n",
       "        \n",
       "  <svg xmlns=\"http://www.w3.org/2000/svg\" height=\"24px\"viewBox=\"0 0 24 24\"\n",
       "       width=\"24px\">\n",
       "    <path d=\"M0 0h24v24H0V0z\" fill=\"none\"/>\n",
       "    <path d=\"M18.56 5.44l.94 2.06.94-2.06 2.06-.94-2.06-.94-.94-2.06-.94 2.06-2.06.94zm-11 1L8.5 8.5l.94-2.06 2.06-.94-2.06-.94L8.5 2.5l-.94 2.06-2.06.94zm10 10l.94 2.06.94-2.06 2.06-.94-2.06-.94-.94-2.06-.94 2.06-2.06.94z\"/><path d=\"M17.41 7.96l-1.37-1.37c-.4-.4-.92-.59-1.43-.59-.52 0-1.04.2-1.43.59L10.3 9.45l-7.72 7.72c-.78.78-.78 2.05 0 2.83L4 21.41c.39.39.9.59 1.41.59.51 0 1.02-.2 1.41-.59l7.78-7.78 2.81-2.81c.8-.78.8-2.07 0-2.86zM5.41 20L4 18.59l7.72-7.72 1.47 1.35L5.41 20z\"/>\n",
       "  </svg>\n",
       "      </button>\n",
       "      \n",
       "  <style>\n",
       "    .colab-df-container {\n",
       "      display:flex;\n",
       "      flex-wrap:wrap;\n",
       "      gap: 12px;\n",
       "    }\n",
       "\n",
       "    .colab-df-convert {\n",
       "      background-color: #E8F0FE;\n",
       "      border: none;\n",
       "      border-radius: 50%;\n",
       "      cursor: pointer;\n",
       "      display: none;\n",
       "      fill: #1967D2;\n",
       "      height: 32px;\n",
       "      padding: 0 0 0 0;\n",
       "      width: 32px;\n",
       "    }\n",
       "\n",
       "    .colab-df-convert:hover {\n",
       "      background-color: #E2EBFA;\n",
       "      box-shadow: 0px 1px 2px rgba(60, 64, 67, 0.3), 0px 1px 3px 1px rgba(60, 64, 67, 0.15);\n",
       "      fill: #174EA6;\n",
       "    }\n",
       "\n",
       "    [theme=dark] .colab-df-convert {\n",
       "      background-color: #3B4455;\n",
       "      fill: #D2E3FC;\n",
       "    }\n",
       "\n",
       "    [theme=dark] .colab-df-convert:hover {\n",
       "      background-color: #434B5C;\n",
       "      box-shadow: 0px 1px 3px 1px rgba(0, 0, 0, 0.15);\n",
       "      filter: drop-shadow(0px 1px 2px rgba(0, 0, 0, 0.3));\n",
       "      fill: #FFFFFF;\n",
       "    }\n",
       "  </style>\n",
       "\n",
       "      <script>\n",
       "        const buttonEl =\n",
       "          document.querySelector('#df-feb6d890-f70f-4f99-85de-11a81103c8a5 button.colab-df-convert');\n",
       "        buttonEl.style.display =\n",
       "          google.colab.kernel.accessAllowed ? 'block' : 'none';\n",
       "\n",
       "        async function convertToInteractive(key) {\n",
       "          const element = document.querySelector('#df-feb6d890-f70f-4f99-85de-11a81103c8a5');\n",
       "          const dataTable =\n",
       "            await google.colab.kernel.invokeFunction('convertToInteractive',\n",
       "                                                     [key], {});\n",
       "          if (!dataTable) return;\n",
       "\n",
       "          const docLinkHtml = 'Like what you see? Visit the ' +\n",
       "            '<a target=\"_blank\" href=https://colab.research.google.com/notebooks/data_table.ipynb>data table notebook</a>'\n",
       "            + ' to learn more about interactive tables.';\n",
       "          element.innerHTML = '';\n",
       "          dataTable['output_type'] = 'display_data';\n",
       "          await google.colab.output.renderOutput(dataTable, element);\n",
       "          const docLink = document.createElement('div');\n",
       "          docLink.innerHTML = docLinkHtml;\n",
       "          element.appendChild(docLink);\n",
       "        }\n",
       "      </script>\n",
       "    </div>\n",
       "  </div>\n",
       "  "
      ],
      "text/plain": [
       "     mean radius  mean texture  mean perimeter  mean area  mean smoothness  \\\n",
       "0          17.99         10.38          122.80     1001.0          0.11840   \n",
       "1          20.57         17.77          132.90     1326.0          0.08474   \n",
       "2          19.69         21.25          130.00     1203.0          0.10960   \n",
       "3          11.42         20.38           77.58      386.1          0.14250   \n",
       "4          20.29         14.34          135.10     1297.0          0.10030   \n",
       "..           ...           ...             ...        ...              ...   \n",
       "564        21.56         22.39          142.00     1479.0          0.11100   \n",
       "565        20.13         28.25          131.20     1261.0          0.09780   \n",
       "566        16.60         28.08          108.30      858.1          0.08455   \n",
       "567        20.60         29.33          140.10     1265.0          0.11780   \n",
       "568         7.76         24.54           47.92      181.0          0.05263   \n",
       "\n",
       "     mean compactness  mean concavity  mean concave points  mean symmetry  \\\n",
       "0             0.27760         0.30010              0.14710         0.2419   \n",
       "1             0.07864         0.08690              0.07017         0.1812   \n",
       "2             0.15990         0.19740              0.12790         0.2069   \n",
       "3             0.28390         0.24140              0.10520         0.2597   \n",
       "4             0.13280         0.19800              0.10430         0.1809   \n",
       "..                ...             ...                  ...            ...   \n",
       "564           0.11590         0.24390              0.13890         0.1726   \n",
       "565           0.10340         0.14400              0.09791         0.1752   \n",
       "566           0.10230         0.09251              0.05302         0.1590   \n",
       "567           0.27700         0.35140              0.15200         0.2397   \n",
       "568           0.04362         0.00000              0.00000         0.1587   \n",
       "\n",
       "     mean fractal dimension  ...  worst texture  worst perimeter  worst area  \\\n",
       "0                   0.07871  ...          17.33           184.60      2019.0   \n",
       "1                   0.05667  ...          23.41           158.80      1956.0   \n",
       "2                   0.05999  ...          25.53           152.50      1709.0   \n",
       "3                   0.09744  ...          26.50            98.87       567.7   \n",
       "4                   0.05883  ...          16.67           152.20      1575.0   \n",
       "..                      ...  ...            ...              ...         ...   \n",
       "564                 0.05623  ...          26.40           166.10      2027.0   \n",
       "565                 0.05533  ...          38.25           155.00      1731.0   \n",
       "566                 0.05648  ...          34.12           126.70      1124.0   \n",
       "567                 0.07016  ...          39.42           184.60      1821.0   \n",
       "568                 0.05884  ...          30.37            59.16       268.6   \n",
       "\n",
       "     worst smoothness  worst compactness  worst concavity  \\\n",
       "0             0.16220            0.66560           0.7119   \n",
       "1             0.12380            0.18660           0.2416   \n",
       "2             0.14440            0.42450           0.4504   \n",
       "3             0.20980            0.86630           0.6869   \n",
       "4             0.13740            0.20500           0.4000   \n",
       "..                ...                ...              ...   \n",
       "564           0.14100            0.21130           0.4107   \n",
       "565           0.11660            0.19220           0.3215   \n",
       "566           0.11390            0.30940           0.3403   \n",
       "567           0.16500            0.86810           0.9387   \n",
       "568           0.08996            0.06444           0.0000   \n",
       "\n",
       "     worst concave points  worst symmetry  worst fractal dimension  target  \n",
       "0                  0.2654          0.4601                  0.11890       0  \n",
       "1                  0.1860          0.2750                  0.08902       0  \n",
       "2                  0.2430          0.3613                  0.08758       0  \n",
       "3                  0.2575          0.6638                  0.17300       0  \n",
       "4                  0.1625          0.2364                  0.07678       0  \n",
       "..                    ...             ...                      ...     ...  \n",
       "564                0.2216          0.2060                  0.07115       0  \n",
       "565                0.1628          0.2572                  0.06637       0  \n",
       "566                0.1418          0.2218                  0.07820       0  \n",
       "567                0.2650          0.4087                  0.12400       0  \n",
       "568                0.0000          0.2871                  0.07039       1  \n",
       "\n",
       "[569 rows x 31 columns]"
      ]
     },
     "execution_count": 5,
     "metadata": {},
     "output_type": "execute_result"
    }
   ],
   "source": [
    "# Display df\n",
    "df"
   ]
  },
  {
   "cell_type": "code",
   "execution_count": 6,
   "metadata": {
    "colab": {
     "base_uri": "https://localhost:8080/"
    },
    "id": "5FlFNYCSSxTU",
    "outputId": "47090b08-5c70-4514-9b99-723944184eb6"
   },
   "outputs": [
    {
     "data": {
      "text/plain": [
       "(30,)"
      ]
     },
     "execution_count": 6,
     "metadata": {},
     "output_type": "execute_result"
    }
   ],
   "source": [
    "# Part 1: Question 2 - To find out the number of features in the pandas dataset: df\n",
    "(dataset.feature_names).shape"
   ]
  },
  {
   "cell_type": "code",
   "execution_count": 7,
   "metadata": {
    "colab": {
     "base_uri": "https://localhost:8080/"
    },
    "id": "PVM5VaCCVGvM",
    "outputId": "e30d48fc-9da1-4d56-cb08-c8f4efeaf983"
   },
   "outputs": [
    {
     "name": "stdout",
     "output_type": "stream",
     "text": [
      "The number of observations having mean area greater than 700 = 171\n"
     ]
    }
   ],
   "source": [
    "# Part 1: Question 3 - Number of observations have a 'mean area' of greater than 700\n",
    "mean_area_700 = df.loc[df[\"mean area\"] > 700]\n",
    "# Using both the len function to determine the number of observations with mean area greater than 700 \n",
    "print(\"The number of observations having mean area greater than 700 =\", len(mean_area_700[\"mean area\"]))"
   ]
  },
  {
   "cell_type": "code",
   "execution_count": 8,
   "metadata": {
    "colab": {
     "base_uri": "https://localhost:8080/"
    },
    "id": "ssOZz4keZHku",
    "outputId": "baa614ac-3e85-4a90-9d1d-7e83d660c932"
   },
   "outputs": [
    {
     "name": "stdout",
     "output_type": "stream",
     "text": [
      "The number of patients tested malignant 0    212\n",
      "Name: target, dtype: int64\n"
     ]
    }
   ],
   "source": [
    "# Part 1: Question 4  - Number of participants tested Malignant\n",
    "# Here, the the target data having value = 0 is considered as a patient who got tested malignant. For target data = 1, the patients got tested as benign\n",
    "number_of_malignant = df.loc[df[\"target\"] == 0]\n",
    "print(\"The number of patients tested malignant\", number_of_malignant[\"target\"].value_counts())"
   ]
  },
  {
   "cell_type": "code",
   "execution_count": 9,
   "metadata": {
    "colab": {
     "base_uri": "https://localhost:8080/"
    },
    "id": "12rgg-56Z327",
    "outputId": "f01b1aa5-72e0-4308-9f40-20244558a30f"
   },
   "outputs": [
    {
     "name": "stdout",
     "output_type": "stream",
     "text": [
      "The number of patients tested benign 1    357\n",
      "Name: target, dtype: int64\n"
     ]
    }
   ],
   "source": [
    "# Part 1: Question 5  - Number of participants tested Benign\n",
    "number_of_benign = df.loc[df[\"target\"] == 1]\n",
    "print(\"The number of patients tested benign\",number_of_benign[\"target\"].value_counts())"
   ]
  },
  {
   "cell_type": "markdown",
   "metadata": {
    "id": "YyqBEQXGq-B0"
   },
   "source": [
    "### Splitting the data\n",
    "It is best practice to have a training set (from which there is a rotating validation subset) and a test set. Our aim here is to (eventually) obtain the best accuracy we can on the test set (we'll do all our tuning on the training/validation sets, however.) \n",
    "\n",
    "**Split the dataset** into a train and a test set **\"70:30\"**, use **``random_state=0``**. The test set is set aside (untouched) for final evaluation, once hyperparameter optimization is complete. **[0.5]**\n",
    "\n",
    "**Only Split the dataset once within you notebook.** You should not use the `train_test_split` function more than once, regardless of the random state. Keep this in mind for your future projects as well."
   ]
  },
  {
   "cell_type": "code",
   "execution_count": 10,
   "metadata": {
    "id": "A5equ6ied8eg"
   },
   "outputs": [],
   "source": [
    "### Splitting the dataset into training set and test set. The training set size is set to 70% of the total data  ###\n",
    "x_data = dataset.data\n",
    "y_data = df[\"target\"]\n",
    "from sklearn.model_selection import train_test_split\n",
    "X_train,X_test,Y_train,Y_test = train_test_split(x_data,y_data,test_size=0.3,random_state=0)"
   ]
  },
  {
   "cell_type": "markdown",
   "metadata": {
    "id": "U_jNtkfce9Eg"
   },
   "source": [
    "### Effect of Standardization (Visual)\n",
    "Use `seaborn.lmplot` ([help here](https://seaborn.pydata.org/generated/seaborn.lmplot.html)) to visualize a few features of the training set. Draw a plot where the x-axis is ``worst smoothness``, the y-axis is ``worst fractal dimension,`` and the color of each datapoint indicates its class.  **[0.5]**\n",
    "\n",
    "Standardizing the data is often critical in machine learning. Show a plot as above, but with two features with very different scales. Standardize the data and plot those features again. What's different? **why do they look similar?** Based on your observation, what is the advantage of standardization? **[0.6]**\n",
    "\n",
    "\n"
   ]
  },
  {
   "cell_type": "code",
   "execution_count": 11,
   "metadata": {
    "id": "J684emSV8mJd"
   },
   "outputs": [],
   "source": [
    "### YOUR CODE HERE ###\n",
    "import seaborn as sns"
   ]
  },
  {
   "cell_type": "code",
   "execution_count": 12,
   "metadata": {
    "colab": {
     "base_uri": "https://localhost:8080/",
     "height": 369
    },
    "id": "6Kh-wf0vhBb-",
    "outputId": "f64ff7aa-7654-4ee0-9a7d-8538da512f13"
   },
   "outputs": [
    {
     "data": {
      "image/png": "[encoded data removed]",
      "text/plain": [
       "<Figure size 402.375x360 with 1 Axes>"
      ]
     },
     "metadata": {
      "needs_background": "light"
     },
     "output_type": "display_data"
    }
   ],
   "source": [
    "plot_data_without_standardization = sns.lmplot(x=\"worst smoothness\",y=\"worst fractal dimension\",data=df,hue=\"target\")     # Plotting non-standardized data using seaborn package "
   ]
  },
  {
   "cell_type": "code",
   "execution_count": 13,
   "metadata": {
    "id": "4DX2MwZq-KOu"
   },
   "outputs": [],
   "source": [
    "from sklearn.preprocessing import StandardScaler"
   ]
  },
  {
   "cell_type": "code",
   "execution_count": 14,
   "metadata": {
    "id": "BaL71Me_YjGL"
   },
   "outputs": [],
   "source": [
    "scaler = StandardScaler()\n",
    "\n",
    "standardize_fract_dimension = df[\"worst fractal dimension\"].to_numpy()\n",
    "standardize_radius = df[\"worst radius\"].to_numpy()\n",
    "standardize_fract_dimension = standardize_fract_dimension.reshape(-1,1)\n",
    "standardize_radius = standardize_radius.reshape(-1,1)\n",
    "\n",
    "scale_1 = scaler.fit(standardize_fract_dimension)\n",
    "scale_2 = scaler.fit(standardize_radius)\n",
    "\n",
    "y_std_WFD = scaler.transform(standardize_fract_dimension)\n",
    "y_std_WR = scaler.transform(standardize_radius)"
   ]
  },
  {
   "cell_type": "code",
   "execution_count": 15,
   "metadata": {
    "id": "rREWdgdXdlqx"
   },
   "outputs": [],
   "source": [
    "df_copy_with_std = df.copy()"
   ]
  },
  {
   "cell_type": "code",
   "execution_count": 16,
   "metadata": {
    "id": "iIk7P0zgdtHo"
   },
   "outputs": [],
   "source": [
    "df_copy_with_std[\"worst fractal dimension\"] = y_std_WFD\n",
    "df_copy_with_std[\"worst radius\"] = y_std_WR"
   ]
  },
  {
   "cell_type": "code",
   "execution_count": 17,
   "metadata": {
    "colab": {
     "base_uri": "https://localhost:8080/",
     "height": 369
    },
    "id": "FOBtyMJ9g1jy",
    "outputId": "dff4ae8b-10ac-47cc-9da4-f4be5e745a8e"
   },
   "outputs": [
    {
     "data": {
      "image/png": "[encoded data removed]",
      "text/plain": [
       "<Figure size 402.375x360 with 1 Axes>"
      ]
     },
     "metadata": {
      "needs_background": "light"
     },
     "output_type": "display_data"
    }
   ],
   "source": [
    "plot_train_data = sns.lmplot(x=\"worst radius\",y=\"worst fractal dimension\",data=df,hue=\"target\",markers=[\"o\",\"x\"])     # Plotting non-standardized data"
   ]
  },
  {
   "cell_type": "code",
   "execution_count": 18,
   "metadata": {
    "colab": {
     "base_uri": "https://localhost:8080/",
     "height": 369
    },
    "id": "5zbks9CHeHxU",
    "outputId": "3d8f477f-3bbf-493a-ea60-738354509d1c"
   },
   "outputs": [
    {
     "data": {
      "image/png": "[encoded data removed]",
      "text/plain": [
       "<Figure size 402.375x360 with 1 Axes>"
      ]
     },
     "metadata": {
      "needs_background": "light"
     },
     "output_type": "display_data"
    }
   ],
   "source": [
    "import seaborn as sns\n",
    "plot_train_data_std = sns.lmplot(x=\"worst radius\",y=\"worst fractal dimension\",data=df_copy_with_std,hue=\"target\",markers=[\"o\",\"x\"])     # Plotting standardized data after fitting and trasnforming using StandardScaler()"
   ]
  },
  {
   "cell_type": "markdown",
   "metadata": {
    "id": "Nezs4pgnfFx1"
   },
   "source": [
    "**PART 1: Continued** \n",
    "\n",
    "The scale gets uniform after standardization (constant variance and zero mean).\n",
    "Since we are subtracting the mean and dividing the data with standard deviation, the data points get standardized, however the plot doesn't change (It is the scale which is getting adjusted).\n",
    "\n",
    "\n",
    "It gives more clarity to draw clear conclusions about the current data when we have other data to measure it against. "
   ]
  },
  {
   "cell_type": "markdown",
   "metadata": {
    "id": "aBmo0-W1yZFs"
   },
   "source": [
    "## Part 2: KNN Classifier without Standardization [2 Marks]\n",
    "Normally, standardizing data is a key step in preparing data for a KNN classifier. However, for educational purposes, let's first try to build a model without standardization. Let's create a KNN classifier to predict whether a patient has a malignant or benign tumor. \n",
    "\n",
    "Follow these steps: \n",
    "\n",
    "1.   Train a KNN Classifier using cross-validation on the dataset. Sweep `k` (number of neighbours) from 1 to 100, and show a plot of the mean cross-validation accuracy vs `k`. **[1]**\n",
    "2.   What is the best `k`? What is the highest cross-validation accuracy? **[0.5]**\n",
    "3. Comment on  which ranges of `k` lead to underfitted or overfitted models (hint: compare training and validation curves!). **[0.5]**\n",
    "\n",
    "\n"
   ]
  },
  {
   "cell_type": "code",
   "execution_count": 19,
   "metadata": {
    "id": "cyEV-mVSAMaV"
   },
   "outputs": [],
   "source": [
    "### Part 2: Question 1 - Training a KNN classifier using cross validation on the dataset from k=1 to 100 ###\n",
    "from sklearn import neighbors\n",
    "from sklearn.metrics import accuracy_score\n",
    "from sklearn.model_selection import cross_validate\n",
    "\n",
    "cv_scores_train = []    # Creating empty list for the scores obtained from the model on the training set.\n",
    "cv_scores_val_test = [] # Creating empty list for the scores obtained from the model on the validation set. \n",
    "k_values = []           # Creating empty list for capturing the k values from 0 to 100\n",
    "\n",
    "for i in range(1,101):\n",
    "  knn = neighbors.KNeighborsClassifier(n_neighbors=i)\n",
    "  cv_scores = cross_validate(knn,X_train,Y_train,cv=5,return_train_score=True)\n",
    "  cv_scores_train = np.append(cv_scores_train,(cv_scores['train_score'].mean()*100))      # Assigning the mean accuracy/score (for training set) to the list cv_score_train  \n",
    "  cv_scores_val_test = np.append(cv_scores_val_test,(cv_scores['test_score'].mean()*100)) # Assigning the mean cross validation score (validation set) to the list cv_score_val_test\n",
    "  k_values = np.append(k_values,i)"
   ]
  },
  {
   "cell_type": "code",
   "execution_count": 20,
   "metadata": {
    "colab": {
     "base_uri": "https://localhost:8080/",
     "height": 608
    },
    "id": "qz2DVi0hlaVt",
    "outputId": "e458b1b1-28cd-4b27-907c-c571826f6a65"
   },
   "outputs": [
    {
     "name": "stdout",
     "output_type": "stream",
     "text": [
      "The maximum cv accuracy is obtained for k = 10 where the maximum validation accuracy = 93.465190  %\n"
     ]
    },
    {
     "data": {
      "text/plain": [
       "<matplotlib.legend.Legend at 0x7f9a3d0fe490>"
      ]
     },
     "execution_count": 20,
     "metadata": {},
     "output_type": "execute_result"
    },
    {
     "data": {
      "image/png": "[encoded data removed]",
      "text/plain": [
       "<Figure size 432x288 with 1 Axes>"
      ]
     },
     "metadata": {
      "needs_background": "light"
     },
     "output_type": "display_data"
    },
    {
     "data": {
      "image/png": "[encoded data removed]",
      "text/plain": [
       "<Figure size 432x288 with 1 Axes>"
      ]
     },
     "metadata": {
      "needs_background": "light"
     },
     "output_type": "display_data"
    }
   ],
   "source": [
    "### Part 2: Question 1 continued - Plotting the mean cross validation accuracy/score v/s hyper parameter k ###\n",
    "import matplotlib.pyplot as plt\n",
    "\n",
    "# Creating scatter plot for plotting mean cross validation accuracy against hyperparameter k\n",
    "plt.figure('Validation accuracy')\n",
    "plt.scatter(k_values,cv_scores_val_test,color='y')\n",
    "plt.title(\"Validation accuracy v/s Number of neighbours\")\n",
    "plt.xlabel(\"Hyper parameter k / Number of neighbours\")\n",
    "plt.ylabel(\"Validation accuracy\")\n",
    "\n",
    "### Part 2: Question 2 - Calculating the best k value and the respective cross validation accuracy ###\n",
    "max_cv_accuracy = cv_scores_val_test.max()\n",
    "index_value = np.where(cv_scores_val_test == max_cv_accuracy)\n",
    "print(\"The maximum cv accuracy is obtained for k = %d where the maximum validation accuracy = %f \"%(index_value[0][1],max_cv_accuracy),\"%\")\n",
    "\n",
    "### Part 2: Question 3 - Commenting on ranges of k which leads to undefitted and overfitted models\n",
    "# Creating linear plot for plotting accuracy scores against hyperparameter k\n",
    "plt.figure(\"Accuracy scores v/s Number of neighbours\")\n",
    "plt.title(\"Accuracy scores v/s Number of neighbours\")\n",
    "plt.plot(k_values,cv_scores_train,label='training score',color = 'r')\n",
    "plt.plot(k_values,cv_scores_val_test,label='validation score',color='m')\n",
    "plt.xlabel(\"Number of Neighbours\")\n",
    "plt.ylabel(\"Accuracy\")\n",
    "plt.legend() "
   ]
  },
  {
   "cell_type": "code",
   "execution_count": 21,
   "metadata": {
    "colab": {
     "base_uri": "https://localhost:8080/"
    },
    "id": "a6fmP3s6gzmj",
    "outputId": "dc20fac5-f5a3-419f-ced5-b293d81b4d4d"
   },
   "outputs": [
    {
     "data": {
      "text/plain": [
       "array([89.57295795, 89.63565387, 89.51006486, 89.57276079, 89.44717178,\n",
       "       89.50986771, 89.32138562, 89.3842787 , 89.19579661, 89.3842787 ,\n",
       "       89.13290353, 89.13290353, 89.07020761, 89.13310069, 89.13310069,\n",
       "       89.13329785, 89.00770884, 89.07040476, 88.81942391, 88.81942391])"
      ]
     },
     "execution_count": 21,
     "metadata": {},
     "output_type": "execute_result"
    }
   ],
   "source": [
    "cv_scores_train[80:100]"
   ]
  },
  {
   "cell_type": "code",
   "execution_count": 22,
   "metadata": {
    "colab": {
     "base_uri": "https://localhost:8080/"
    },
    "id": "1yLzfRCdgtZ-",
    "outputId": "612206fd-e042-4dda-f603-7234782ddbe3"
   },
   "outputs": [
    {
     "data": {
      "text/plain": [
       "array([89.69936709, 89.69936709, 89.44936709, 89.69936709, 89.19620253,\n",
       "       89.69936709, 89.19620253, 89.44620253, 89.19620253, 89.44620253,\n",
       "       89.19620253, 89.44620253, 89.44620253, 89.44620253, 88.94620253,\n",
       "       89.44620253, 88.69303797, 88.69303797, 88.69303797, 88.94303797])"
      ]
     },
     "execution_count": 22,
     "metadata": {},
     "output_type": "execute_result"
    }
   ],
   "source": [
    "cv_scores_val_test[80:100]"
   ]
  },
  {
   "cell_type": "markdown",
   "metadata": {
    "id": "L6FPclXpwb-j"
   },
   "source": [
    "### Part 2: Question 3 continued - Commenting on ranges of k which leads to undefitted and overfitted models\n",
    "\n",
    "From the graph, for k values less than 10 (k < 10), the model is underfit due to the huge variation between training and validation accuracy.\n",
    "However, for large k values (k > 80), the model is overfit"
   ]
  },
  {
   "cell_type": "markdown",
   "metadata": {
    "id": "VCyFm5S3srCO"
   },
   "source": [
    "## Part 3: Feature Selection [3 Marks]\n",
    "In this part, we aim to investigate the importance of each feature on the final classification accuracy. \n",
    "If we want to try every possible combination of features, we would have to test  $2^F$ different cases,  where F is the number of features, and in each case, we have to do a hyperparameter search (finding K, in KNN using cross-validation). That will take days!. \n",
    "\n",
    "To find more important features we will use a decision tree. based on a decision tree we can compute feature importance that is a metric for our feature selection (code is provided below).\n",
    "\n",
    "You can use [this link](https://machinelearningmastery.com/calculate-feature-importance-with-python/\n",
    ") to get familiar with extracting the feature impotance order of machine learning algorithms in Python.\n",
    "\n",
    "After we identified and removed the least important feature and evaluated a new KNN model on the new set of features, if the stop conditions (see step 7 below) are not met, we need to repeat the process and remove another feature.\n",
    "\n",
    "\n",
    "Design a function ( `Feature_selector`) that accepts your dataset (X_train , y_train) and a threshold as inputs and: **[1]**\n",
    "1. Fits a decision tree classifier on the training set.\n",
    "\n",
    "2. Extracts the feature importance order of the decision tree model.\n",
    "\n",
    "3. Removes the least important feature based on step 2. \n",
    "4. Then, a KNN model is trained on the remaining features. The number of neighbors (`k`) for each KNN model should be tuned using a 5-fold cross-validation.\n",
    "5. Store the best `mean cross-validation` score and the corresponding `k` (number of neighbours) value in two lists.\n",
    "6. Go back to step 3 and follow all the steps until you meet the stop condition (step 7). \n",
    " \n",
    "7. We will stop this process when (1) there is only one feature left, or (2) our cross-validation accuracy is dropped significantly compared to a model that uses all the features. In this function, we accept a threshold as an input argument. For example, if threshold=0.95 we do not continue removing features if our mean cross-validation accuracy after tuning `k` is bellow **0.95 $\\times$ Full Feature cross-validation accuracy**.\n",
    "\n",
    "8. Your function returns the list of removed features, and the corresponding mean cross-validation accuracy and `k` value when a feature was removed.\n",
    "\n",
    "* Visualize your results by plotting the mean cross-validation accuracy (with a tuned `k` on y axis) vs. the on the number of features (x axis). This plot describes: what is the best cv score with 1 feature, 2 features, 3 features ... and all the features. **[0.5]**\n",
    "\n",
    "* Plot the best value of `k` (y-axis) vs. the number of features. This plot explains the trend of number of neighbours with respect to the number of features.  **[0.5]**\n",
    "\n",
    "* State what is the number of essential features for classification and justify your answer. **[1]**\n",
    "  \n",
    "  \n",
    "\n",
    "\n",
    "\n",
    "\n",
    "\n",
    "\n",
    "\n",
    " "
   ]
  },
  {
   "cell_type": "markdown",
   "metadata": {
    "id": "LPcG6_UIdAaT"
   },
   "source": [
    "You can use the following piece of code to start training a decision tree classifier and obtain its feature importance order. \n",
    "```\n",
    "from sklearn import tree\n",
    "dt = tree.DecisionTreeClassifier()\n",
    "dt.fit(X_train,y_train)\n",
    "importance = dt.feature_importances_\n",
    "```\n"
   ]
  },
  {
   "cell_type": "code",
   "execution_count": 23,
   "metadata": {
    "colab": {
     "base_uri": "https://localhost:8080/"
    },
    "id": "oiFUWWnE0QVc",
    "outputId": "d1f32e68-510f-48b6-890c-a05dbe756880"
   },
   "outputs": [
    {
     "data": {
      "text/plain": [
       "DecisionTreeClassifier()"
      ]
     },
     "execution_count": 23,
     "metadata": {},
     "output_type": "execute_result"
    }
   ],
   "source": [
    "from sklearn import tree\n",
    "dt = tree.DecisionTreeClassifier()              # Calling Decision tree classifier\n",
    "\n",
    "X_train_copy = X_train.copy()\n",
    "Y_train_copy = Y_train.copy()\n",
    "\n",
    "# Part 3: Question 1-Fitting the classifier on the training set\n",
    "dt.fit(X_train_copy,Y_train_copy)               "
   ]
  },
  {
   "cell_type": "code",
   "execution_count": 24,
   "metadata": {
    "id": "esBDhNtoJZpA"
   },
   "outputs": [],
   "source": [
    "def Feature_selector (X_train_copy, Y_train_copy , tr=0.95):\n",
    "  global mean_cvs_train,mean_cvs_val,corresponding_hyperparameter,k,f_data,least_imp_features_removed,best_mean_cvs, importance # Keyword to modify the variables outside the defined function\n",
    "\n",
    "  importance = dt.feature_importances_            # Function which returns the features as per their importance on the predicted variable  \n",
    "\n",
    "  mean_cvs_val = []       # Creating empty list for the scores obtained from the model on the validation set.\n",
    "  mean_cvs_train_features_removed = []\n",
    "  k = []\n",
    "\n",
    "\n",
    "  for i in range(1,101):\n",
    "    knn_copy = neighbors.KNeighborsClassifier(n_neighbors=i)\n",
    "    cv_scores_copy = cross_validate(knn_copy,X_train_copy,Y_train_copy,cv=5)\n",
    "    mean_cvs_val = np.append(mean_cvs_val,cv_scores_copy['test_score'].mean())          # Assigning the mean cross validation score (validation set) to the list cv_score_val_test\n",
    "    k = np.append(k,i)\n",
    "\n",
    "  max_cvs_val = mean_cvs_val.max()                                                               # Storing the maximum cross validation score from the list of mean cross validation scores. \n",
    "  max_cvs = np.where(mean_cvs_val == max_cvs_val)\n",
    "  best_mean_cvs = np.append(best_mean_cvs,max_cvs_val)                                           # Index value which stores the max/best cross validation scores as numpy array with values in [rows,columns] = [mean_cvs_val,k]\n",
    "  corresponding_hyperparameter = np.append(corresponding_hyperparameter,k[max_cvs[0][0]])\n",
    "\n",
    "  index_least_imp = np.where(importance == importance.min())    # Captures the least important ***feature/features*** in the dataset\n",
    "  X_train_copy = np.delete(X_train_copy,index_least_imp[0][0],axis=1)  # Removes the least important feature (only 1 feature at a time) from the training set\n",
    "  features_min_imp = f_data[index_least_imp[0][0]]                     \n",
    "  least_imp_features_removed = np.append(least_imp_features_removed,features_min_imp)             \n",
    "  \n",
    "  f_data = np.delete(f_data,index_least_imp[0][0])                   \n",
    "  importance = np.delete(importance,index_least_imp[0][0])\n",
    "\n",
    "# Creating stop condition which follows the conditions as mentioned in the question.\n",
    "  if (len(f_data) ==1) or (max_cvs_val < (tr*max_cv_accuracy/100)):\n",
    "    return least_imp_features_removed, best_mean_cvs, corresponding_hyperparameter\n",
    "  \n",
    "  else:\n",
    "    return Feature_selector(X_train_copy,Y_train_copy)"
   ]
  },
  {
   "cell_type": "code",
   "execution_count": 25,
   "metadata": {
    "id": "yj9FohZV0j2v"
   },
   "outputs": [],
   "source": [
    "best_mean_cvs = []\n",
    "least_imp_features_removed = []\n",
    "corresponding_hyperparameter = []\n",
    "f_data = dataset.feature_names\n",
    "\n",
    "least_imp_features_removed_op,best_mean_cvs_op,corresponding_hyperparameter_op = Feature_selector(X_train_copy,Y_train_copy)"
   ]
  },
  {
   "cell_type": "code",
   "execution_count": 26,
   "metadata": {
    "colab": {
     "base_uri": "https://localhost:8080/"
    },
    "id": "6c3lQOCpU4Js",
    "outputId": "30affbec-71be-4a11-d2d1-bb9ef1926ee6"
   },
   "outputs": [
    {
     "data": {
      "text/plain": [
       "array(['mean radius', 'mean texture', 'mean perimeter', 'mean area',\n",
       "       'mean smoothness', 'mean compactness', 'mean concavity',\n",
       "       'mean concave points', 'mean symmetry', 'mean fractal dimension',\n",
       "       'radius error', 'texture error', 'perimeter error', 'area error',\n",
       "       'smoothness error', 'compactness error', 'concavity error',\n",
       "       'concave points error', 'symmetry error',\n",
       "       'fractal dimension error', 'worst radius', 'worst texture',\n",
       "       'worst perimeter', 'worst area', 'worst smoothness',\n",
       "       'worst compactness', 'worst concavity', 'worst concave points',\n",
       "       'worst symmetry'], dtype='<U32')"
      ]
     },
     "execution_count": 26,
     "metadata": {},
     "output_type": "execute_result"
    }
   ],
   "source": [
    "least_imp_features_removed_op"
   ]
  },
  {
   "cell_type": "code",
   "execution_count": 27,
   "metadata": {
    "colab": {
     "base_uri": "https://localhost:8080/"
    },
    "id": "9hFFVWXzZG0V",
    "outputId": "ddd5637b-9bec-4acc-dc5e-d30d7999d762"
   },
   "outputs": [
    {
     "data": {
      "text/plain": [
       "array([0.9346519 , 0.9346519 , 0.9346519 , 0.9321519 , 0.91458861,\n",
       "       0.91458861, 0.91458861, 0.91458861, 0.91458861, 0.91458861,\n",
       "       0.91458861, 0.91458861, 0.91458861, 0.91458861, 0.91458861,\n",
       "       0.91458861, 0.91458861, 0.91458861, 0.91458861, 0.91458861,\n",
       "       0.91458861, 0.91458861, 0.91458861, 0.91458861, 0.91205696,\n",
       "       0.91208861, 0.90952532, 0.92458861, 0.72870253])"
      ]
     },
     "execution_count": 27,
     "metadata": {},
     "output_type": "execute_result"
    }
   ],
   "source": [
    "best_mean_cvs_op"
   ]
  },
  {
   "cell_type": "code",
   "execution_count": 28,
   "metadata": {
    "colab": {
     "base_uri": "https://localhost:8080/",
     "height": 542
    },
    "id": "r8Fdc33lvUHI",
    "outputId": "0b080cdf-2bd9-431a-fef8-8c6a552636a8"
   },
   "outputs": [
    {
     "data": {
      "image/png": "[encoded data removed]",
      "text/plain": [
       "<Figure size 432x288 with 1 Axes>"
      ]
     },
     "metadata": {
      "needs_background": "light"
     },
     "output_type": "display_data"
    },
    {
     "data": {
      "image/png": "[encoded data removed]",
      "text/plain": [
       "<Figure size 432x288 with 1 Axes>"
      ]
     },
     "metadata": {
      "needs_background": "light"
     },
     "output_type": "display_data"
    }
   ],
   "source": [
    "plt.figure(\"Number of features v/s mean cross-validation accuracy\")\n",
    "x_axis = [30] \n",
    "no_of_features = np.arange(len(least_imp_features_removed_op),0,-1)\n",
    "x_axis = np.append(x_axis,no_of_features)\n",
    "y_axis = max_cv_accuracy/100\n",
    "y_axis = np.append(y_axis,best_mean_cvs_op)\n",
    "plt.plot(x_axis,y_axis,color='r')\n",
    "plt.xlabel(\"Number of features\")\n",
    "plt.ylabel(\"Best CV score\")\n",
    "plt.show()\n",
    "\n",
    "plt.figure(\"Number of features v/s best k values\")\n",
    "x_axis1 = [30] \n",
    "no_of_features = np.arange(len(least_imp_features_removed_op),0,-1)\n",
    "x_axis1 = np.append(x_axis1,no_of_features)\n",
    "y_axis1 = index_value[0][0].copy()\n",
    "y_axis1 = np.append(y_axis1,corresponding_hyperparameter)\n",
    "plt.plot(x_axis1,y_axis1,color='y')\n",
    "plt.xlabel(\"Number of features\")\n",
    "plt.ylabel(\"Best k value\")\n",
    "plt.show()\n"
   ]
  },
  {
   "cell_type": "code",
   "execution_count": 29,
   "metadata": {
    "colab": {
     "base_uri": "https://localhost:8080/"
    },
    "id": "kvSisb6PhN5L",
    "outputId": "891e07ec-7241-47df-e953-486375f0a968"
   },
   "outputs": [
    {
     "data": {
      "text/plain": [
       "array([0.9346519 , 0.9346519 , 0.9346519 , 0.9321519 , 0.91458861,\n",
       "       0.91458861, 0.91458861, 0.91458861, 0.91458861, 0.91458861,\n",
       "       0.91458861, 0.91458861, 0.91458861, 0.91458861, 0.91458861,\n",
       "       0.91458861, 0.91458861, 0.91458861, 0.91458861, 0.91458861,\n",
       "       0.91458861, 0.91458861, 0.91458861, 0.91458861, 0.91205696,\n",
       "       0.91208861, 0.90952532, 0.92458861, 0.72870253])"
      ]
     },
     "execution_count": 29,
     "metadata": {},
     "output_type": "execute_result"
    }
   ],
   "source": [
    "best_mean_cvs_op"
   ]
  },
  {
   "cell_type": "code",
   "execution_count": 30,
   "metadata": {
    "colab": {
     "base_uri": "https://localhost:8080/"
    },
    "id": "mtrJBdzdfhc8",
    "outputId": "8d4cc85c-7f80-4b5f-965b-7def64165a20"
   },
   "outputs": [
    {
     "data": {
      "text/plain": [
       "[93.46518987341771,\n",
       " 93.46518987341771,\n",
       " 93.46518987341771,\n",
       " 93.21518987341773,\n",
       " 92.45886075949367]"
      ]
     },
     "execution_count": 30,
     "metadata": {},
     "output_type": "execute_result"
    }
   ],
   "source": [
    "sorted(best_mean_cvs_op*100,reverse=True)[:5]"
   ]
  },
  {
   "cell_type": "markdown",
   "metadata": {
    "id": "R1gS9HbLiskx"
   },
   "source": [
    "The number of essential features for classification: At least 5 features are required, as per the plot, if the number of features drop from 5, the cross validation accuracy drops drastically.  "
   ]
  },
  {
   "cell_type": "markdown",
   "metadata": {
    "id": "GTXjb1sWmDZL"
   },
   "source": [
    "## Part 4: Standardization [1 Marks]\n",
    "\n",
    "Standardizing the data usually means scaling our data to have a mean of zero and a standard deviation of one. \n",
    "\n",
    "**Note:** When we standardize a dataset, do we care if the data points are in our training set or test set? Yes! The training set is available for us to train a model - we can use it however we want. The test set, however, represents a subset of data that is not available for us during training. For example, the test set can represent the data that someone who bought our model would use to see how the model performs (which they are not willing to share with us).\n",
    "Therefore, we cannot compute the mean or standard deviation of the whole dataset to standardize it - we can only calculate the mean and standard deviation of the training set. However, when we sell a model to someone, we can say what our scalers (mean and standard deviation of our training set) was. They can scale their data (test set) with our training set's mean and standard deviation. Of course, there is no guarantee that the test set would have a mean of zero and a standard deviation of one, but it should work fine.\n",
    "\n",
    "**To summarize: We fit the StandardScaler only on the training set. We transform both training and test sets with that scaler.**\n",
    "\n",
    "1. Standardize the training  and test data ([Help](https://scikit-learn.org/stable/modules/preprocessing.html)) \n",
    "\n",
    "2. Call your ``Feature_selector`` function on the standardized training data with a threshold of 95\\%. \n",
    " * Plot the Cross validation accuracy when we have the standardized data (this part) and the original training data (last part) vs. the Number of features in a single plot (to compare them easily).\n",
    "\n",
    "3. Discuss how standardization (helped/hurt) your model and its performance? Discuss which cases lead to a higher cross validation accuracy (how many features? which features? What K?)\n"
   ]
  },
  {
   "cell_type": "code",
   "execution_count": 31,
   "metadata": {
    "id": "xAwAGR6_2bu3"
   },
   "outputs": [],
   "source": [
    "### Part 4: Question 1 - Standardizing the training and test data set\n",
    "X_train1 = X_train.copy()\n",
    "X_test1 = X_test.copy()\n",
    "Y_train1 = Y_train.copy()\n",
    "f_data = dataset.feature_names\n",
    "\n",
    "X_train_fit = scaler.fit(X_train1)\n",
    "\n",
    "stdized_X_train = scaler.transform(X_train1)\n",
    "stdized_X_test = scaler.transform(X_test1)"
   ]
  },
  {
   "cell_type": "code",
   "execution_count": 32,
   "metadata": {
    "id": "qImo_pfM4NjO"
   },
   "outputs": [],
   "source": [
    "# Part 4: Question 2 - Calling Feature_Selector() function on the standardized data\n",
    "dt.fit(stdized_X_train,Y_train1)               # Fitting the classifier on the training set\n",
    "\n",
    "best_mean_cvs = []\n",
    "least_imp_features_removed = []\n",
    "corresponding_hyperparameter = []\n",
    "f_data = dataset.feature_names\n",
    "\n",
    "std_features_removed,std_best_cv_scores,std_k_values = Feature_selector(stdized_X_train,Y_train1)"
   ]
  },
  {
   "cell_type": "code",
   "execution_count": 33,
   "metadata": {
    "colab": {
     "base_uri": "https://localhost:8080/"
    },
    "id": "FtqSOK1ZabTg",
    "outputId": "db1f768c-59d3-49a0-e578-476408a2a74f"
   },
   "outputs": [
    {
     "data": {
      "text/plain": [
       "array([0.96743671, 0.96496835, 0.96234177, 0.95984177, 0.95984177,\n",
       "       0.95724684, 0.96234177, 0.95731013, 0.95731013, 0.95737342,\n",
       "       0.95734177, 0.95987342, 0.95984177, 0.96234177, 0.95734177,\n",
       "       0.95987342, 0.96740506, 0.95987342, 0.97496835, 0.96993671,\n",
       "       0.96993671, 0.96993671, 0.95234177, 0.94468354, 0.9221519 ,\n",
       "       0.91712025, 0.92462025, 0.91958861, 0.72373418])"
      ]
     },
     "execution_count": 33,
     "metadata": {},
     "output_type": "execute_result"
    }
   ],
   "source": [
    "std_best_cv_scores"
   ]
  },
  {
   "cell_type": "code",
   "execution_count": 34,
   "metadata": {
    "colab": {
     "base_uri": "https://localhost:8080/"
    },
    "id": "BvGhp95mr0id",
    "outputId": "138f3146-6c89-40ec-99b1-451861c6a728"
   },
   "outputs": [
    {
     "data": {
      "text/plain": [
       "array([8.])"
      ]
     },
     "execution_count": 34,
     "metadata": {},
     "output_type": "execute_result"
    }
   ],
   "source": [
    "std_index = np.where(std_best_cv_scores== std_best_cv_scores.max())\n",
    "std_k_values[std_index]"
   ]
  },
  {
   "cell_type": "code",
   "execution_count": 35,
   "metadata": {
    "colab": {
     "base_uri": "https://localhost:8080/",
     "height": 279
    },
    "id": "8zlH5njUHvry",
    "outputId": "5908113e-3042-4e64-f135-5884f925d5b4"
   },
   "outputs": [
    {
     "data": {
      "image/png": "[encoded data removed]",
      "text/plain": [
       "<Figure size 432x288 with 1 Axes>"
      ]
     },
     "metadata": {
      "needs_background": "light"
     },
     "output_type": "display_data"
    }
   ],
   "source": [
    "plt.figure(\"Number of features v/s mean cross-validation accuracy\")\n",
    "x_axis2 = [30] \n",
    "no_of_features = np.arange(len(least_imp_features_removed_op),0,-1)\n",
    "x_axis2 = np.append(x_axis2,no_of_features)\n",
    "\n",
    "y_axis2 = max_cv_accuracy/100\n",
    "y_axis2 = np.append(y_axis2,best_mean_cvs_op)\n",
    "\n",
    "y_axis3 = std_best_cv_scores[0]\n",
    "y_axis3 = np.append(y_axis3,std_best_cv_scores)\n",
    "\n",
    "plt.plot(x_axis,y_axis,color='r',label='Original Training Data')\n",
    "plt.plot(x_axis,y_axis3,color='g',label='Standardized Data')\n",
    "plt.xlabel(\"Number of features\")\n",
    "plt.ylabel(\"Best CV score\")\n",
    "plt.legend()\n",
    "plt.show()\n"
   ]
  },
  {
   "cell_type": "code",
   "execution_count": 36,
   "metadata": {
    "colab": {
     "base_uri": "https://localhost:8080/",
     "height": 279
    },
    "id": "pWfX6B_oxBJ8",
    "outputId": "5e792604-7652-4565-b125-834e4e085d4f"
   },
   "outputs": [
    {
     "data": {
      "image/png": "[encoded data removed]",
      "text/plain": [
       "<Figure size 432x288 with 1 Axes>"
      ]
     },
     "metadata": {
      "needs_background": "light"
     },
     "output_type": "display_data"
    }
   ],
   "source": [
    "plt.figure(\"Number of features v/s k values \")\n",
    "x_axis2 = [30] \n",
    "no_of_features = np.arange(len(least_imp_features_removed_op),0,-1)\n",
    "x_axis2 = np.append(x_axis2,no_of_features)\n",
    "\n",
    "y_axis_k = index_value[0][0].copy()\n",
    "y_axis_k = np.append(y_axis_k,corresponding_hyperparameter)\n",
    "\n",
    "std_best_k = corresponding_hyperparameter_op.max() \n",
    "index_std_k = np.where(corresponding_hyperparameter_op == std_best_k)  \n",
    "\n",
    "std_y_axis_k = index_std_k[0][0].copy()\n",
    "std_y_axis_k = np.append(std_y_axis_k,corresponding_hyperparameter_op)\n",
    "\n",
    "\n",
    "plt.plot(x_axis,y_axis_k,color='b',label='Original Training Data')\n",
    "plt.plot(x_axis,std_y_axis_k,color='y',label='Standardized Data')\n",
    "plt.xlabel(\"Number of features\")\n",
    "plt.ylabel(\"Best k value\")\n",
    "plt.legend()\n",
    "plt.show()\n"
   ]
  },
  {
   "cell_type": "code",
   "execution_count": 53,
   "metadata": {
    "colab": {
     "base_uri": "https://localhost:8080/"
    },
    "id": "faFFsnMywexl",
    "outputId": "37aeafdc-dc07-452f-a763-2fa8224b2d6b"
   },
   "outputs": [
    {
     "name": "stdout",
     "output_type": "stream",
     "text": [
      "[96.74367089 96.49683544 96.23417722 95.98417722 95.98417722 95.72468354\n",
      " 96.23417722 95.73101266 95.73101266 95.73734177 95.73417722 95.98734177\n",
      " 95.98417722 96.23417722 95.73417722 95.98734177 96.74050633 95.98734177\n",
      " 97.49683544 96.99367089 96.99367089 96.99367089 95.23417722 94.46835443\n",
      " 92.21518987 91.71202532 92.46202532 91.95886076 72.37341772]\n",
      "[10. 10. 10.  7. 34. 34. 34. 34. 34. 34. 34. 34. 34. 34. 34. 34. 34. 34.\n",
      " 34. 34. 34. 34. 34. 34. 18. 17. 20. 30. 39.]\n",
      "['mean radius' 'mean texture' 'mean perimeter' 'mean area'\n",
      " 'mean smoothness' 'mean compactness' 'mean concavity'\n",
      " 'mean concave points' 'mean symmetry' 'mean fractal dimension'\n",
      " 'radius error' 'texture error' 'perimeter error' 'area error'\n",
      " 'smoothness error' 'compactness error' 'concavity error'\n",
      " 'concave points error' 'symmetry error' 'fractal dimension error'\n",
      " 'worst radius' 'worst texture' 'worst perimeter' 'worst area'\n",
      " 'worst smoothness' 'worst compactness' 'worst concavity'\n",
      " 'worst concave points' 'worst symmetry']\n"
     ]
    }
   ],
   "source": [
    "print(std_best_cv_scores*100)\n",
    "print(corresponding_hyperparameter_op)\n",
    "print(std_features_removed)"
   ]
  },
  {
   "cell_type": "code",
   "execution_count": null,
   "metadata": {
    "id": "nNsqRAQ-5FP9"
   },
   "outputs": [],
   "source": []
  },
  {
   "cell_type": "markdown",
   "metadata": {
    "id": "08LmCgez1FX0"
   },
   "source": [
    "**Part 4: Question 3** \n",
    "After standardizing the data, the cross validation accuracy increases from 93.5% to 97.5%. \n",
    "  \n",
    "(Please note that there may be exceptions every time the notebook is initiated & run).\n",
    "\n",
    "1.   It is evident from the above plot (\"Best CV value v/s Number of Features\") that as the features decrease, the cross validation accuracy also decreases.For number of features greater than 25, the mean cv accuracy is the highest i.e., the accuracy increases when there are more than 5 features. In addition, the standardized data gives better cross validation score when compared to non-standardized data.\n",
    "\n",
    "2. As per the second graph,(\"Standardized data of k v/s Number of Features\"), the k value is high for large number of features (shows positive trend). The higher the number of features taken into consideration, k values decreases considerably. Hence, more features help for convenient predictions using less k values. While comparing the standardized dataset with unstandardized data, higher number of features are required after standardizing the training set.\n",
    "\n",
    "3. Worst fractal dimension is the least important feature from the dataset.\n",
    "  The important features which contribute to cv score are : -'mean radius' 'mean texture' 'mean perimeter' 'mean area'\n",
    " 'mean smoothness' 'mean compactness' 'mean concavity'\n",
    " 'mean concave points' 'mean symmetry' 'mean fractal dimension'\n",
    " 'radius error' 'texture error' 'perimeter error' 'area error'\n",
    " 'smoothness error' 'compactness error' 'concavity error'\n",
    " 'concave points error' 'symmetry error' 'fractal dimension error'\n",
    " 'worst radius' 'worst texture'"
   ]
  },
  {
   "cell_type": "markdown",
   "metadata": {
    "id": "HdmuHF4kGH5M"
   },
   "source": [
    "## Part 5: Decision Tree Classifier [1.5 Mark]\n",
    "\n",
    "Train a decision tree classifier on the standardized dataset (read the [documentation](https://scikit-learn.org/stable/modules/generated/sklearn.tree.DecisionTreeClassifier.html) and check the example there.) Tune the `max_depth` and `min_samples_split` parameters of the tree using cross-validation (CV).\n",
    " * Compare the decision tree's performance (mean CV score) with KNN, both using all the features. \n"
   ]
  },
  {
   "cell_type": "code",
   "execution_count": 37,
   "metadata": {
    "id": "1JpxL8Og68Af"
   },
   "outputs": [],
   "source": [
    "X_train4 = X_train.copy()\n",
    "Y_train_DTC = Y_train.copy()\n",
    "X_test4 = X_test.copy()\n",
    "\n",
    "X_train_fit2 = scaler.fit(X_train4)\n",
    "\n",
    "std_X_train_DTC = scaler.transform(X_train4)\n",
    "std_X_test_DTC = scaler.transform(X_test4)"
   ]
  },
  {
   "cell_type": "code",
   "execution_count": 38,
   "metadata": {
    "colab": {
     "base_uri": "https://localhost:8080/"
    },
    "id": "laYRhTK4Kytl",
    "outputId": "d0042011-e401-4e35-9d02-3fd608b8cc34"
   },
   "outputs": [
    {
     "name": "stderr",
     "output_type": "stream",
     "text": [
      "/usr/local/lib/python3.7/dist-packages/sklearn/model_selection/_validation.py:372: FitFailedWarning: \n",
      "55 fits failed out of a total of 770.\n",
      "The score on these train-test partitions for these parameters will be set to nan.\n",
      "If these failures are not expected, you can try to debug them by setting error_score='raise'.\n",
      "\n",
      "Below are more details about the failures:\n",
      "--------------------------------------------------------------------------------\n",
      "55 fits failed with the following error:\n",
      "Traceback (most recent call last):\n",
      "  File \"/usr/local/lib/python3.7/dist-packages/sklearn/model_selection/_validation.py\", line 680, in _fit_and_score\n",
      "    estimator.fit(X_train, y_train, **fit_params)\n",
      "  File \"/usr/local/lib/python3.7/dist-packages/sklearn/tree/_classes.py\", line 942, in fit\n",
      "    X_idx_sorted=X_idx_sorted,\n",
      "  File \"/usr/local/lib/python3.7/dist-packages/sklearn/tree/_classes.py\", line 254, in fit\n",
      "    % self.min_samples_split\n",
      "ValueError: min_samples_split must be an integer greater than 1 or a float in (0.0, 1.0]; got the integer 1\n",
      "\n",
      "  warnings.warn(some_fits_failed_message, FitFailedWarning)\n",
      "/usr/local/lib/python3.7/dist-packages/sklearn/model_selection/_search.py:972: UserWarning: One or more of the test scores are non-finite: [       nan 0.90199367 0.90199367 0.90199367 0.90199367 0.90199367\n",
      " 0.90199367 0.90199367 0.90199367 0.90199367 0.90199367 0.90199367\n",
      " 0.90199367 0.90199367        nan 0.90452532 0.90452532 0.90452532\n",
      " 0.90452532 0.90452532 0.90452532 0.90452532 0.90452532 0.90452532\n",
      " 0.90452532 0.90452532 0.90452532 0.90452532        nan 0.92462025\n",
      " 0.92462025 0.92462025 0.92462025 0.92462025 0.92462025 0.92462025\n",
      " 0.92462025 0.92462025 0.92462025 0.92212025 0.91462025 0.91462025\n",
      "        nan 0.9246519  0.9246519  0.9246519  0.9246519  0.9246519\n",
      " 0.9246519  0.9321519  0.9321519  0.9321519  0.9321519  0.9296519\n",
      " 0.9221519  0.9221519         nan 0.9246519  0.9221519  0.91708861\n",
      " 0.91708861 0.92208861 0.92208861 0.92208861 0.92458861 0.92458861\n",
      " 0.92458861 0.92208861 0.9221519  0.9221519         nan 0.90702532\n",
      " 0.90702532 0.90952532 0.91712025 0.92462025 0.9271519  0.9271519\n",
      " 0.9271519  0.9271519  0.9271519  0.9246519  0.9196519  0.9221519\n",
      "        nan 0.90952532 0.90952532 0.90702532 0.91205696 0.91955696\n",
      " 0.92208861 0.92208861 0.92208861 0.92208861 0.92208861 0.91958861\n",
      " 0.9196519  0.9196519         nan 0.90952532 0.90952532 0.90702532\n",
      " 0.91205696 0.91955696 0.92208861 0.92208861 0.92208861 0.92208861\n",
      " 0.92208861 0.91958861 0.9196519  0.9196519         nan 0.90952532\n",
      " 0.90952532 0.90702532 0.91205696 0.91955696 0.92208861 0.92208861\n",
      " 0.92208861 0.92208861 0.92208861 0.91958861 0.9196519  0.9196519\n",
      "        nan 0.90952532 0.90952532 0.90702532 0.91205696 0.91955696\n",
      " 0.92208861 0.92208861 0.92208861 0.92208861 0.92208861 0.91958861\n",
      " 0.9196519  0.9196519         nan 0.90952532 0.90952532 0.90702532\n",
      " 0.91205696 0.91955696 0.92208861 0.92208861 0.92208861 0.92208861\n",
      " 0.92208861 0.91958861 0.9196519  0.9196519 ]\n",
      "  category=UserWarning,\n"
     ]
    },
    {
     "data": {
      "text/plain": [
       "GridSearchCV(cv=5, estimator=DecisionTreeClassifier(random_state=50),\n",
       "             param_grid={'max_depth': range(1, 12),\n",
       "                         'min_samples_split': range(1, 15)})"
      ]
     },
     "execution_count": 38,
     "metadata": {},
     "output_type": "execute_result"
    }
   ],
   "source": [
    "### YOUR CODE HERE ###\n",
    "from sklearn.tree import DecisionTreeClassifier\n",
    "from sklearn.model_selection import GridSearchCV\n",
    "\n",
    "DTCmodel = DecisionTreeClassifier(random_state=50)\n",
    "\n",
    "parameter = {\"max_depth\" : range(1,12), \"min_samples_split\" : range(1,15)}\n",
    "grid = GridSearchCV(DTCmodel,param_grid = parameter,cv=5)\n",
    "\n",
    "grid.fit(std_X_train_DTC,Y_train_DTC)"
   ]
  },
  {
   "cell_type": "code",
   "execution_count": 39,
   "metadata": {
    "colab": {
     "base_uri": "https://localhost:8080/"
    },
    "id": "P4xAZQHMHi6s",
    "outputId": "8ebe94e5-fc7a-44a8-df6b-b8b34afe7423"
   },
   "outputs": [
    {
     "name": "stdout",
     "output_type": "stream",
     "text": [
      "0.9321518987341773\n"
     ]
    }
   ],
   "source": [
    "mean_cvs_DTC = grid.best_score_ \n",
    "print(mean_cvs_DTC) "
   ]
  },
  {
   "cell_type": "code",
   "execution_count": 40,
   "metadata": {
    "colab": {
     "base_uri": "https://localhost:8080/"
    },
    "id": "phdZ10Y8IAOs",
    "outputId": "c9557f77-d57c-48cb-c968-0f3f70bf911a"
   },
   "outputs": [
    {
     "data": {
      "text/plain": [
       "{'max_depth': 4, 'min_samples_split': 8}"
      ]
     },
     "execution_count": 40,
     "metadata": {},
     "output_type": "execute_result"
    }
   ],
   "source": [
    "grid.best_params_"
   ]
  },
  {
   "cell_type": "code",
   "execution_count": 41,
   "metadata": {
    "id": "yTsWuztSIrQI"
   },
   "outputs": [],
   "source": [
    "DTC_scores = cross_validate(DTCmodel,std_X_train_DTC,Y_train_DTC,cv=5,return_train_score=True)"
   ]
  },
  {
   "cell_type": "code",
   "execution_count": 55,
   "metadata": {
    "colab": {
     "base_uri": "https://localhost:8080/"
    },
    "id": "rmljrakSJ5Ph",
    "outputId": "d69a9cfd-b862-4106-a2a1-f3e2f9d1b12d"
   },
   "outputs": [
    {
     "name": "stdout",
     "output_type": "stream",
     "text": [
      "The mean cross validation score for KNN classifier using non-standardized training data using all features is \n",
      " 93.46518987341771 %\n",
      "The mean cross validation score for KNN classifier using standardized training data using all features is \n",
      " 97.49683544303798 %\n",
      "The mean cross validation score for Decision Tree Classifier using standardized training data using all features is \n",
      " 93.21518987341773 %\n"
     ]
    }
   ],
   "source": [
    "print(\"The mean cross validation score for KNN classifier using non-standardized training data using all features is \\n\",(max_cv_accuracy),\"%\")\n",
    "print(\"The mean cross validation score for KNN classifier using standardized training data using all features is \\n\",((std_best_cv_scores.max()*100)),\"%\")\n",
    "print(\"The mean cross validation score for Decision Tree Classifier using standardized training data using all features is \\n\",(mean_cvs_DTC*100),\"%\")"
   ]
  },
  {
   "cell_type": "markdown",
   "metadata": {
    "id": "fK5YAcg45ldd"
   },
   "source": [
    "As evident from the cell above, the KNN model gives a better accuracy (when considering all the features) in comparison to Decision Tree Classifier."
   ]
  },
  {
   "cell_type": "markdown",
   "metadata": {
    "id": "k7QjKjHn2TZR"
   },
   "source": [
    "## Part 6: Test Data [0.5 Mark]\n",
    "\n",
    "Now that you've created several models, pick your best one (highest CV accuracy) and apply it to the test dataset you had initially set aside. Discuss your results."
   ]
  },
  {
   "cell_type": "code",
   "execution_count": 43,
   "metadata": {
    "colab": {
     "base_uri": "https://localhost:8080/"
    },
    "id": "acdJ7EijBYqB",
    "outputId": "e6b53097-7879-46f6-d047-26e782a4e074"
   },
   "outputs": [
    {
     "name": "stdout",
     "output_type": "stream",
     "text": [
      "Test set accuracy is 95.32163742690058 %\n"
     ]
    }
   ],
   "source": [
    "### YOUR CODE HERE ###\n",
    "Y_test_final = Y_test.copy()\n",
    "knn_test = neighbors.KNeighborsClassifier(n_neighbors=8)\n",
    "knn_test.fit(stdized_X_train,Y_train)\n",
    "\n",
    "accuracy = accuracy_score(Y_test,knn_test.predict(stdized_X_test))\n",
    "print('Test set accuracy is',accuracy*100,'%')"
   ]
  },
  {
   "cell_type": "markdown",
   "metadata": {
    "id": "yhCf82AOe3IS"
   },
   "source": [
    "References:\n",
    "\n",
    "https://towardsdatascience.com/decision-trees-in-machine-learning-641b9c4e8052\n",
    "\n",
    "https://www.analyticsvidhya.com/blog/2021/02/machine-learning-101-decision-tree-algorithm-for-classification/"
   ]
  }
 ],
 "metadata": {
  "colab": {
   "collapsed_sections": [],
   "provenance": []
  },
  "kernelspec": {
   "display_name": "Python 3 (ipykernel)",
   "language": "python",
   "name": "python3"
  },
  "language_info": {
   "codemirror_mode": {
    "name": "ipython",
    "version": 3
   },
   "file_extension": ".py",
   "mimetype": "text/x-python",
   "name": "python",
   "nbconvert_exporter": "python",
   "pygments_lexer": "ipython3",
   "version": "3.10.9"
  }
 },
 "nbformat": 4,
 "nbformat_minor": 1
}
